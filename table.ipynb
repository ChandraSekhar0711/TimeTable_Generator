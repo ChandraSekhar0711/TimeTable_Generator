{
  "nbformat": 4,
  "nbformat_minor": 0,
  "metadata": {
    "kernelspec": {
      "display_name": "Python 3.7.1 64-bit ('base': conda)",
      "language": "python",
      "name": "python37164bitbaseconda066b902933ca40eeb2d07a83151bb8de"
    },
    "language_info": {
      "codemirror_mode": {
        "name": "ipython",
        "version": 3
      },
      "file_extension": ".py",
      "mimetype": "text/x-python",
      "name": "python",
      "nbconvert_exporter": "python",
      "pygments_lexer": "ipython3",
      "version": "3.7.1-final"
    },
    "colab": {
      "name": "table.ipynb",
      "provenance": []
    }
  },
  "cells": [
    {
      "cell_type": "code",
      "metadata": {
        "id": "UW0Efrqa7gW8",
        "colab_type": "code",
        "colab": {
          "base_uri": "https://localhost:8080/",
          "height": 906
        },
        "outputId": "665d6786-3b2e-4f7b-9da5-b9960c2e58ca"
      },
      "source": [
        "import random\n",
        "m=6\n",
        "n=8\n",
        "Periods=m*n\n",
        "\n",
        "print(\"Enter no.of Subjects,no.of default_periods,no.of labs,no.of free_periods::\")\n",
        "\n",
        "sub,dp,l,fp=map(int,input().split())\n",
        "\n",
        "\n",
        "emp=\"\"\n",
        "p=[[emp for i in range(n+5)]for j in range(m+5)]\n",
        "q=[[emp for i in range(n+5)]for j in range(m+5)]\n",
        "freq=[]\n",
        "freq1=[]\n",
        "\n",
        "default=[]\n",
        "print(\"Enter\",dp,\"default_periods...\")\n",
        "for i in range(0,dp):\n",
        "    default.append(input())\n",
        "print()\n",
        "\n",
        "fperiods=[]\n",
        "print(\"Enter\",fp,\"free_periods...\")\n",
        "for i in range(0,fp):\n",
        "    fperiods.append(input())\n",
        "print()\n",
        "\n",
        "labs=[]\n",
        "labs_faculty=[]\n",
        "lab_details={}\n",
        "print(\"Enter\",l,\"lab_periods...\")\n",
        "for i in range(0,l):\n",
        "    print(\"enter lab\",i,\":\",end=\" \")\n",
        "    labs.append(input())\n",
        "    #print(\"enter faculty for \",labs[i],\"lab:\",end=\" \")\n",
        "    #labs_faculty.append(input())\n",
        "    #lab_details[labs_faculty[i]]=labs[i]\n",
        "print()\n",
        "\n",
        "main_subjects=[]\n",
        "sub_faculty=[]\n",
        "subject_faculty={}\n",
        "print(\"Enter\",sub,\"Subjects...\")\n",
        "for i in range(0,sub):\n",
        "    print(\"enter subject\", i,\":\",end=\" \")\n",
        "    main_subjects.append(input())\n",
        "    #print(\"enter faculty for \",main_subjects[i],\":\",end=\" \")\n",
        "    #sub_faculty.append(input())\n",
        "    #subject_faculty[sub_faculty[i]]=main_subjects[i]\n",
        "print()\n",
        "\n",
        "\n",
        "def sec1():\n",
        "    def default_periods():\n",
        "        def exams():\n",
        "                i=2\n",
        "                for j in range(0,i):\n",
        "                        p[i][j]=default[0]\n",
        "                        q[i][j]=default[0]\n",
        "        exams()\n",
        "\n",
        "        def rev():\n",
        "                i=1\n",
        "                for j in range(4,n):\n",
        "                        p[i][j]=default[1]\n",
        "                        q[i][j]=default[1]\n",
        "        rev()\n",
        "\n",
        "        def elec():\n",
        "            i=2\n",
        "            count=0\n",
        "            while count<5:\n",
        "                k=random.randint(0,5)\n",
        "                s=random.randint(0,6)\n",
        "                if p[k][s]!=emp or q[k][s]!=emp :\n",
        "                  continue\n",
        "                else:\n",
        "                  p[k][s]=default[i]\n",
        "                  q[k][s]=default[i]\n",
        "                  count=count+1\n",
        "        elec()\n",
        "\n",
        "    default_periods()\n",
        "\n",
        "    def free_periods():\n",
        "        def crt():\n",
        "          i=0\n",
        "          count=0\n",
        "          while count<3:\n",
        "              k=random.randint(0,5)\n",
        "              s=random.randint(0,6)\n",
        "              if p[k][s]!=emp:\n",
        "                continue\n",
        "              else:\n",
        "                p[k][s]=fperiods[i]\n",
        "                count=count+1\n",
        "        crt()\n",
        "\n",
        "        def free():\n",
        "          count=0\n",
        "          while count<5:\n",
        "              k=random.randint(0,5)\n",
        "              s=7\n",
        "              if p[k][s]!=emp and q[k][s]!=emp:\n",
        "                continue\n",
        "              else:\n",
        "                p[k][s]=fperiods[1]\n",
        "                q[k][s]=fperiods[1]\n",
        "                count=count+1\n",
        "        free()\n",
        "    free_periods()\n",
        "\n",
        "    def lab_periods():\n",
        "        def lab():\n",
        "                i=0\n",
        "                count =0\n",
        "                while count<9:\n",
        "                    k=random.randint(0,5)\n",
        "                    s=random.randint(0,4)\n",
        "                    if (p[k][s]!=emp or p[k][s+1]!=emp or p[k][s+2]!=emp):\n",
        "                        continue\n",
        "                    else:\n",
        "                        for j in range(0,3):\n",
        "                            p[k][s+j]=labs[i]\n",
        "                            count=count+i\n",
        "                        i+=1\n",
        "        lab()\n",
        "    lab_periods()\n",
        "\n",
        "    def subj():\n",
        "        def subjects():\n",
        "          i=0\n",
        "          count=0\n",
        "          while count<20:\n",
        "            while freq.count(main_subjects[i])<5:\n",
        "              k=random.randint(0,5)\n",
        "              s=random.randint(0,6)\n",
        "              if p[k][s]!=emp:\n",
        "                continue\n",
        "              else:\n",
        "                p[k][s]=main_subjects[i]\n",
        "                count=count+1\n",
        "                freq.append(main_subjects[i])\n",
        "            i=i+1\n",
        "        subjects()\n",
        "    subj()\n",
        "sec1()\n",
        "#Section allocation starts from here.....\n",
        "def sec2():\n",
        "    def crt1():\n",
        "      i=0\n",
        "      count=0\n",
        "      while count<3:\n",
        "          k=random.randint(0,5)\n",
        "          s=random.randint(0,7)\n",
        "          if q[k][s]!=emp or p[k][s]==fperiods[i]:\n",
        "            continue\n",
        "          else:\n",
        "            q[k][s]=fperiods[i]\n",
        "            count=count+1\n",
        "    crt1()\n",
        "\n",
        "    def labs1():\n",
        "            i=0\n",
        "            count=0\n",
        "            while count<9:\n",
        "                    k=random.randint(0,5)\n",
        "                    s=random.randint(0,4)\n",
        "                    if (q[k][s]!=emp or q[k][s+1]!=emp or q[k][s+2]!=emp or p[k][s]==labs[i] or p[k][s+1]==labs[i] or p[k][s+2]==labs[i]):\n",
        "                            continue\n",
        "                    else:\n",
        "                            for j in range(0,3):\n",
        "                                    q[k][s+j]=labs[i]\n",
        "                                    count=count+1\n",
        "                            i+=1\n",
        "    labs1()\n",
        "\n",
        "\n",
        "\n",
        "    def subjects1():\n",
        "      i=0\n",
        "      count=0\n",
        "      while count<20:\n",
        "        while freq1.count(main_subjects[i])<5:\n",
        "          k=random.randint(0,5)\n",
        "          s=random.randint(0,6)\n",
        "          if q[k][s]!=emp or p[k][s]==main_subjects[i]:\n",
        "            continue\n",
        "          else:\n",
        "            q[k][s]=main_subjects[i]\n",
        "            count=count+1\n",
        "            freq1.append(main_subjects[i])\n",
        "        i=i+1\n",
        "    subjects1()\n",
        "sec2()\n",
        "\n",
        "\n",
        "for i in range(0,m):\n",
        "    for j in range(0,n):\n",
        "        print(p[i][j],end=\" | \")\n",
        "    print()\n",
        "print()\n",
        "print()\n",
        "for i in range(0,m):\n",
        "    for j in range(0,n):\n",
        "        print(q[i][j],end=\" | \")\n",
        "    print()\n",
        "print()\n",
        "print()\n",
        "\n",
        "\n",
        "print(\"subjects:\",subject_faculty)\n",
        "print(\"labs:\",lab_details)\n"
      ],
      "execution_count": 1,
      "outputs": [
        {
          "output_type": "stream",
          "text": [
            "Enter no.of Subjects,no.of default_periods,no.of labs,no.of free_periods::\n",
            "4 3 3 2\n",
            "Enter 3 default_periods...\n",
            "Weekend\n",
            "Revision\n",
            "Elective\n",
            "\n",
            "Enter 2 free_periods...\n",
            "CRT\n",
            "Free\n",
            "\n",
            "Enter 3 lab_periods...\n",
            "enter lab 0 : CNLAb\n",
            "enter lab 1 : ooadLab\n",
            "enter lab 2 : WTLab\n",
            "\n",
            "Enter 4 Subjects...\n",
            "enter subject 0 : CN\n",
            "enter subject 1 : OOAD\n",
            "enter subject 2 : WT\n",
            "enter subject 3 : AI\n",
            "\n",
            "WT | Elective | AI | WT | Elective | CN | AI | Free | \n",
            "AI | WT | OOAD | CRT | Revision | Revision | Revision | Revision | \n",
            "Weekend | Weekend | CN | OOAD | Elective | OOAD | CRT | Free | \n",
            "WT | CN | CN | WTLab | WTLab | WTLab | Elective | Free | \n",
            "OOAD | OOAD | AI | CNLAb | CNLAb | CNLAb | CN | Free | \n",
            "CRT | AI | WT | Elective | ooadLab | ooadLab | ooadLab | Free | \n",
            "\n",
            "\n",
            "OOAD | Elective | CN | AI | Elective | WT | CRT | Free | \n",
            "CN | AI | CRT | WT | Revision | Revision | Revision | Revision | \n",
            "Weekend | Weekend | OOAD | WT | Elective | CN | OOAD | Free | \n",
            "CNLAb | CNLAb | CNLAb | OOAD | WT | CN | Elective | Free | \n",
            "ooadLab | ooadLab | ooadLab | OOAD | AI | WT | AI | Free | \n",
            "AI | CRT | CN | Elective | WTLab | WTLab | WTLab | Free | \n",
            "\n",
            "\n"
          ],
          "name": "stdout"
        },
        {
          "output_type": "error",
          "ename": "NameError",
          "evalue": "ignored",
          "traceback": [
            "\u001b[0;31m---------------------------------------------------------------------------\u001b[0m",
            "\u001b[0;31mNameError\u001b[0m                                 Traceback (most recent call last)",
            "\u001b[0;32m<ipython-input-1-58523c14bbb2>\u001b[0m in \u001b[0;36m<module>\u001b[0;34m()\u001b[0m\n\u001b[1;32m    210\u001b[0m \u001b[0mprint\u001b[0m\u001b[0;34m(\u001b[0m\u001b[0;34m)\u001b[0m\u001b[0;34m\u001b[0m\u001b[0;34m\u001b[0m\u001b[0m\n\u001b[1;32m    211\u001b[0m \u001b[0;34m\u001b[0m\u001b[0m\n\u001b[0;32m--> 212\u001b[0;31m \u001b[0mplot\u001b[0m\u001b[0;34m(\u001b[0m\u001b[0mp\u001b[0m\u001b[0;34m,\u001b[0m\u001b[0;34m\"section 1\"\u001b[0m\u001b[0;34m)\u001b[0m\u001b[0;34m\u001b[0m\u001b[0;34m\u001b[0m\u001b[0m\n\u001b[0m\u001b[1;32m    213\u001b[0m \u001b[0mplot\u001b[0m\u001b[0;34m(\u001b[0m\u001b[0mq\u001b[0m\u001b[0;34m,\u001b[0m\u001b[0;34m\"section 2\"\u001b[0m\u001b[0;34m)\u001b[0m\u001b[0;34m\u001b[0m\u001b[0;34m\u001b[0m\u001b[0m\n\u001b[1;32m    214\u001b[0m \u001b[0;34m\u001b[0m\u001b[0m\n",
            "\u001b[0;31mNameError\u001b[0m: name 'plot' is not defined"
          ]
        }
      ]
    },
    {
      "cell_type": "code",
      "metadata": {
        "id": "_0elK5y3Br2G",
        "colab_type": "code",
        "colab": {}
      },
      "source": [
        "for i in p:\n",
        "  while \"\" in i:\n",
        "    i.remove(\"\")\n",
        "p = list(filter(None, p)) \n",
        "\n",
        "for i in q:\n",
        "  while \"\" in i:\n",
        "    i.remove(\"\")\n",
        "q = list(filter(None, q)) \n"
      ],
      "execution_count": 0,
      "outputs": []
    },
    {
      "cell_type": "code",
      "metadata": {
        "id": "lRX3480uD_04",
        "colab_type": "code",
        "colab": {
          "base_uri": "https://localhost:8080/",
          "height": 54
        },
        "outputId": "3cb2de0b-b386-44f1-eea0-d343159b9702"
      },
      "source": [
        "print(p,q)"
      ],
      "execution_count": 32,
      "outputs": [
        {
          "output_type": "stream",
          "text": [
            "[['WT', 'Elective', 'AI', 'WT', 'Elective', 'CN', 'AI', 'Free'], ['AI', 'WT', 'OOAD', 'CRT', 'Revision', 'Revision', 'Revision', 'Revision'], ['Weekend', 'Weekend', 'CN', 'OOAD', 'Elective', 'OOAD', 'CRT', 'Free'], ['WT', 'CN', 'CN', 'WTLab', 'WTLab', 'WTLab', 'Elective', 'Free'], ['OOAD', 'OOAD', 'AI', 'CNLAb', 'CNLAb', 'CNLAb', 'CN', 'Free'], ['CRT', 'AI', 'WT', 'Elective', 'ooadLab', 'ooadLab', 'ooadLab', 'Free']] [['OOAD', 'Elective', 'CN', 'AI', 'Elective', 'WT', 'CRT', 'Free'], ['CN', 'AI', 'CRT', 'WT', 'Revision', 'Revision', 'Revision', 'Revision'], ['Weekend', 'Weekend', 'OOAD', 'WT', 'Elective', 'CN', 'OOAD', 'Free'], ['CNLAb', 'CNLAb', 'CNLAb', 'OOAD', 'WT', 'CN', 'Elective', 'Free'], ['ooadLab', 'ooadLab', 'ooadLab', 'OOAD', 'AI', 'WT', 'AI', 'Free'], ['AI', 'CRT', 'CN', 'Elective', 'WTLab', 'WTLab', 'WTLab', 'Free']]\n"
          ],
          "name": "stdout"
        }
      ]
    },
    {
      "cell_type": "code",
      "metadata": {
        "id": "6w7TT_tF7gXG",
        "colab_type": "code",
        "colab": {}
      },
      "source": [
        "import matplotlib.pylab as pl\n",
        "\n",
        "def plot(table,secname):\n",
        "    ny = m\n",
        "    nx = n\n",
        "    pl.figure(\"Section \"+ secname)\n",
        "    tb = pl.table(cellText=table, loc=(0,0), cellLoc='center')\n",
        "    \n",
        "    ax = pl.gca()\n",
        "    ax.set_xticks([])\n",
        "    ax.set_yticks([])\n",
        "\n",
        "    pl.show()"
      ],
      "execution_count": 0,
      "outputs": []
    },
    {
      "cell_type": "code",
      "metadata": {
        "id": "aaM4mhck7gXL",
        "colab_type": "code",
        "colab": {
          "base_uri": "https://localhost:8080/",
          "height": 487
        },
        "outputId": "7fb298d1-a8ce-481c-bc08-5ef042de1cea"
      },
      "source": [
        "\n",
        "plot(p,\"section 1\")\n",
        "plot(q,\"section 2\")"
      ],
      "execution_count": 33,
      "outputs": [
        {
          "output_type": "display_data",
          "data": {
            "image/png": "[encoded data removed]",
            "text/plain": [
              "<Figure size 432x288 with 1 Axes>"
            ]
          },
          "metadata": {
            "tags": []
          }
        },
        {
          "output_type": "display_data",
          "data": {
            "image/png": "[encoded data removed]",
            "text/plain": [
              "<Figure size 432x288 with 1 Axes>"
            ]
          },
          "metadata": {
            "tags": []
          }
        }
      ]
    },
    {
      "cell_type": "code",
      "metadata": {
        "id": "1ek9EcAkA6io",
        "colab_type": "code",
        "colab": {
          "base_uri": "https://localhost:8080/",
          "height": 263
        },
        "outputId": "a468907b-b2a8-4823-baeb-3ef37801fd35"
      },
      "source": [
        "import pandas as pd\n",
        "\n",
        "df = pd.DataFrame(p)\n",
        "print(df)"
      ],
      "execution_count": 17,
      "outputs": [
        {
          "output_type": "stream",
          "text": [
            "         0         1     2         3         4   ... 8  9  10 11 12\n",
            "0        WT  Elective    AI        WT  Elective  ...               \n",
            "1        AI        WT  OOAD       CRT  Revision  ...               \n",
            "2   Weekend   Weekend    CN      OOAD  Elective  ...               \n",
            "3        WT        CN    CN     WTLab     WTLab  ...               \n",
            "4      OOAD      OOAD    AI     CNLAb     CNLAb  ...               \n",
            "5       CRT        AI    WT  Elective   ooadLab  ...               \n",
            "6                                                ...               \n",
            "7                                                ...               \n",
            "8                                                ...               \n",
            "9                                                ...               \n",
            "10                                               ...               \n",
            "\n",
            "[11 rows x 13 columns]\n"
          ],
          "name": "stdout"
        }
      ]
    }
  ]
}